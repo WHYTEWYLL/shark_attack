{
 "cells": [
  {
   "cell_type": "markdown",
   "metadata": {},
   "source": [
    "\n",
    "<div align=\"center\">\n",
    "\n",
    "# Data Cleaning and Manipulation - Jupyter Notebook\n",
    "\n",
    "***\n",
    "\n",
    "## Overview\n",
    "</div>\n",
    "\n",
    "***\n",
    "\n",
    "<div class=\"alert alert-block alert-info\">\n",
    "<b>Objetivo:</b> es limpiar y manipular el dataset  usando Pandas, dejandolo listo para futuros análisis. A continuacion encontrara una lista de los principales que vamos a realizar, ya que dependiendo del dataset pueden variar. \n",
    "    "
   ]
  },
  {
   "cell_type": "markdown",
   "metadata": {},
   "source": [
    "<code style=\"font-size: 20px;background:white; align:center\">**To do list:**</code>\n",
    "\n",
    "- [ ] Importar librerias\n",
    "- [ ] Dataset necesarios\n",
    "- [ ] Exploración inicial \n",
    "- [ ] Eliminacion de las columnas inecesarias \n",
    "- [ ] Eliminar las filas vacías\n",
    "- [ ] Limpiar los datos de las columnas\n",
    "- [ ] Renombre columnas\n",
    "- [ ] Re-establecer el index\n"
   ]
  },
  {
   "cell_type": "markdown",
   "metadata": {},
   "source": [
    "<div align=\"center\">\n",
    "<code style =\"background:yellow; color: black ;font-size: 25px;\" >⚠️ WARNING</code>\n",
    "</div>\n",
    "<div align=\"center\">\n",
    "<code style =\"background:white;font-size: 12px\" > Install the libraries , in case you dont have them! </code>\n",
    "</div>"
   ]
  },
  {
   "cell_type": "code",
   "execution_count": 1,
   "metadata": {},
   "outputs": [],
   "source": [
    "import pandas as pd\n",
    "import numpy as np\n",
    "from eso.tools import *\n",
    "import re"
   ]
  },
  {
   "cell_type": "markdown",
   "metadata": {},
   "source": [
    "# Opening csv"
   ]
  },
  {
   "cell_type": "code",
   "execution_count": 2,
   "metadata": {},
   "outputs": [],
   "source": [
    "df=pd.read_csv(\"Input/attacks.csv\", encoding=\"cp1252\")"
   ]
  },
  {
   "cell_type": "markdown",
   "metadata": {},
   "source": [
    "# Exploring dataframe\n",
    "### Lets take a look of the dataframe we created! "
   ]
  },
  {
   "cell_type": "code",
   "execution_count": 4,
   "metadata": {},
   "outputs": [
    {
     "data": {
      "text/plain": [
       "(25723, 24)"
      ]
     },
     "execution_count": 4,
     "metadata": {},
     "output_type": "execute_result"
    }
   ],
   "source": [
    "df.shape"
   ]
  },
  {
   "cell_type": "code",
   "execution_count": 5,
   "metadata": {},
   "outputs": [
    {
     "data": {
      "text/html": [
       "<div>\n",
       "<style scoped>\n",
       "    .dataframe tbody tr th:only-of-type {\n",
       "        vertical-align: middle;\n",
       "    }\n",
       "\n",
       "    .dataframe tbody tr th {\n",
       "        vertical-align: top;\n",
       "    }\n",
       "\n",
       "    .dataframe thead th {\n",
       "        text-align: right;\n",
       "    }\n",
       "</style>\n",
       "<table border=\"1\" class=\"dataframe\">\n",
       "  <thead>\n",
       "    <tr style=\"text-align: right;\">\n",
       "      <th></th>\n",
       "      <th>Case Number</th>\n",
       "      <th>Date</th>\n",
       "      <th>Year</th>\n",
       "      <th>Type</th>\n",
       "      <th>Country</th>\n",
       "      <th>Area</th>\n",
       "      <th>Location</th>\n",
       "      <th>Activity</th>\n",
       "      <th>Name</th>\n",
       "      <th>Sex</th>\n",
       "      <th>...</th>\n",
       "      <th>Species</th>\n",
       "      <th>Investigator or Source</th>\n",
       "      <th>pdf</th>\n",
       "      <th>href formula</th>\n",
       "      <th>href</th>\n",
       "      <th>Case Number.1</th>\n",
       "      <th>Case Number.2</th>\n",
       "      <th>original order</th>\n",
       "      <th>Unnamed: 22</th>\n",
       "      <th>Unnamed: 23</th>\n",
       "    </tr>\n",
       "  </thead>\n",
       "  <tbody>\n",
       "    <tr>\n",
       "      <th>0</th>\n",
       "      <td>2018.06.25</td>\n",
       "      <td>25-Jun-2018</td>\n",
       "      <td>2018.0</td>\n",
       "      <td>Boating</td>\n",
       "      <td>USA</td>\n",
       "      <td>California</td>\n",
       "      <td>Oceanside, San Diego County</td>\n",
       "      <td>Paddling</td>\n",
       "      <td>Julie Wolfe</td>\n",
       "      <td>F</td>\n",
       "      <td>...</td>\n",
       "      <td>White shark</td>\n",
       "      <td>R. Collier, GSAF</td>\n",
       "      <td>2018.06.25-Wolfe.pdf</td>\n",
       "      <td>http://sharkattackfile.net/spreadsheets/pdf_di...</td>\n",
       "      <td>http://sharkattackfile.net/spreadsheets/pdf_di...</td>\n",
       "      <td>2018.06.25</td>\n",
       "      <td>2018.06.25</td>\n",
       "      <td>6303.0</td>\n",
       "      <td>NaN</td>\n",
       "      <td>NaN</td>\n",
       "    </tr>\n",
       "    <tr>\n",
       "      <th>1</th>\n",
       "      <td>2018.06.18</td>\n",
       "      <td>18-Jun-2018</td>\n",
       "      <td>2018.0</td>\n",
       "      <td>Unprovoked</td>\n",
       "      <td>USA</td>\n",
       "      <td>Georgia</td>\n",
       "      <td>St. Simon Island, Glynn County</td>\n",
       "      <td>Standing</td>\n",
       "      <td>Adyson McNeely</td>\n",
       "      <td>F</td>\n",
       "      <td>...</td>\n",
       "      <td>NaN</td>\n",
       "      <td>K.McMurray, TrackingSharks.com</td>\n",
       "      <td>2018.06.18-McNeely.pdf</td>\n",
       "      <td>http://sharkattackfile.net/spreadsheets/pdf_di...</td>\n",
       "      <td>http://sharkattackfile.net/spreadsheets/pdf_di...</td>\n",
       "      <td>2018.06.18</td>\n",
       "      <td>2018.06.18</td>\n",
       "      <td>6302.0</td>\n",
       "      <td>NaN</td>\n",
       "      <td>NaN</td>\n",
       "    </tr>\n",
       "    <tr>\n",
       "      <th>2</th>\n",
       "      <td>2018.06.09</td>\n",
       "      <td>09-Jun-2018</td>\n",
       "      <td>2018.0</td>\n",
       "      <td>Invalid</td>\n",
       "      <td>USA</td>\n",
       "      <td>Hawaii</td>\n",
       "      <td>Habush, Oahu</td>\n",
       "      <td>Surfing</td>\n",
       "      <td>John Denges</td>\n",
       "      <td>M</td>\n",
       "      <td>...</td>\n",
       "      <td>NaN</td>\n",
       "      <td>K.McMurray, TrackingSharks.com</td>\n",
       "      <td>2018.06.09-Denges.pdf</td>\n",
       "      <td>http://sharkattackfile.net/spreadsheets/pdf_di...</td>\n",
       "      <td>http://sharkattackfile.net/spreadsheets/pdf_di...</td>\n",
       "      <td>2018.06.09</td>\n",
       "      <td>2018.06.09</td>\n",
       "      <td>6301.0</td>\n",
       "      <td>NaN</td>\n",
       "      <td>NaN</td>\n",
       "    </tr>\n",
       "    <tr>\n",
       "      <th>3</th>\n",
       "      <td>2018.06.08</td>\n",
       "      <td>08-Jun-2018</td>\n",
       "      <td>2018.0</td>\n",
       "      <td>Unprovoked</td>\n",
       "      <td>AUSTRALIA</td>\n",
       "      <td>New South Wales</td>\n",
       "      <td>Arrawarra Headland</td>\n",
       "      <td>Surfing</td>\n",
       "      <td>male</td>\n",
       "      <td>M</td>\n",
       "      <td>...</td>\n",
       "      <td>2 m shark</td>\n",
       "      <td>B. Myatt, GSAF</td>\n",
       "      <td>2018.06.08-Arrawarra.pdf</td>\n",
       "      <td>http://sharkattackfile.net/spreadsheets/pdf_di...</td>\n",
       "      <td>http://sharkattackfile.net/spreadsheets/pdf_di...</td>\n",
       "      <td>2018.06.08</td>\n",
       "      <td>2018.06.08</td>\n",
       "      <td>6300.0</td>\n",
       "      <td>NaN</td>\n",
       "      <td>NaN</td>\n",
       "    </tr>\n",
       "    <tr>\n",
       "      <th>4</th>\n",
       "      <td>2018.06.04</td>\n",
       "      <td>04-Jun-2018</td>\n",
       "      <td>2018.0</td>\n",
       "      <td>Provoked</td>\n",
       "      <td>MEXICO</td>\n",
       "      <td>Colima</td>\n",
       "      <td>La Ticla</td>\n",
       "      <td>Free diving</td>\n",
       "      <td>Gustavo Ramos</td>\n",
       "      <td>M</td>\n",
       "      <td>...</td>\n",
       "      <td>Tiger shark, 3m</td>\n",
       "      <td>A .Kipper</td>\n",
       "      <td>2018.06.04-Ramos.pdf</td>\n",
       "      <td>http://sharkattackfile.net/spreadsheets/pdf_di...</td>\n",
       "      <td>http://sharkattackfile.net/spreadsheets/pdf_di...</td>\n",
       "      <td>2018.06.04</td>\n",
       "      <td>2018.06.04</td>\n",
       "      <td>6299.0</td>\n",
       "      <td>NaN</td>\n",
       "      <td>NaN</td>\n",
       "    </tr>\n",
       "  </tbody>\n",
       "</table>\n",
       "<p>5 rows × 24 columns</p>\n",
       "</div>"
      ],
      "text/plain": [
       "  Case Number         Date    Year        Type    Country             Area  \\\n",
       "0  2018.06.25  25-Jun-2018  2018.0     Boating        USA       California   \n",
       "1  2018.06.18  18-Jun-2018  2018.0  Unprovoked        USA          Georgia   \n",
       "2  2018.06.09  09-Jun-2018  2018.0     Invalid        USA           Hawaii   \n",
       "3  2018.06.08  08-Jun-2018  2018.0  Unprovoked  AUSTRALIA  New South Wales   \n",
       "4  2018.06.04  04-Jun-2018  2018.0    Provoked     MEXICO           Colima   \n",
       "\n",
       "                         Location     Activity             Name Sex   ...  \\\n",
       "0     Oceanside, San Diego County     Paddling      Julie Wolfe    F  ...   \n",
       "1  St. Simon Island, Glynn County     Standing  Adyson McNeely     F  ...   \n",
       "2                    Habush, Oahu      Surfing      John Denges    M  ...   \n",
       "3              Arrawarra Headland      Surfing             male    M  ...   \n",
       "4                        La Ticla  Free diving   Gustavo Ramos     M  ...   \n",
       "\n",
       "          Species           Investigator or Source                       pdf  \\\n",
       "0      White shark                R. Collier, GSAF      2018.06.25-Wolfe.pdf   \n",
       "1              NaN  K.McMurray, TrackingSharks.com    2018.06.18-McNeely.pdf   \n",
       "2              NaN  K.McMurray, TrackingSharks.com     2018.06.09-Denges.pdf   \n",
       "3        2 m shark                  B. Myatt, GSAF  2018.06.08-Arrawarra.pdf   \n",
       "4  Tiger shark, 3m                       A .Kipper      2018.06.04-Ramos.pdf   \n",
       "\n",
       "                                        href formula  \\\n",
       "0  http://sharkattackfile.net/spreadsheets/pdf_di...   \n",
       "1  http://sharkattackfile.net/spreadsheets/pdf_di...   \n",
       "2  http://sharkattackfile.net/spreadsheets/pdf_di...   \n",
       "3  http://sharkattackfile.net/spreadsheets/pdf_di...   \n",
       "4  http://sharkattackfile.net/spreadsheets/pdf_di...   \n",
       "\n",
       "                                                href Case Number.1  \\\n",
       "0  http://sharkattackfile.net/spreadsheets/pdf_di...    2018.06.25   \n",
       "1  http://sharkattackfile.net/spreadsheets/pdf_di...    2018.06.18   \n",
       "2  http://sharkattackfile.net/spreadsheets/pdf_di...    2018.06.09   \n",
       "3  http://sharkattackfile.net/spreadsheets/pdf_di...    2018.06.08   \n",
       "4  http://sharkattackfile.net/spreadsheets/pdf_di...    2018.06.04   \n",
       "\n",
       "  Case Number.2 original order Unnamed: 22 Unnamed: 23  \n",
       "0    2018.06.25         6303.0         NaN         NaN  \n",
       "1    2018.06.18         6302.0         NaN         NaN  \n",
       "2    2018.06.09         6301.0         NaN         NaN  \n",
       "3    2018.06.08         6300.0         NaN         NaN  \n",
       "4    2018.06.04         6299.0         NaN         NaN  \n",
       "\n",
       "[5 rows x 24 columns]"
      ]
     },
     "execution_count": 5,
     "metadata": {},
     "output_type": "execute_result"
    }
   ],
   "source": [
    "df.head()\n"
   ]
  },
  {
   "cell_type": "markdown",
   "metadata": {},
   "source": [
    "# Columns"
   ]
  },
  {
   "cell_type": "markdown",
   "metadata": {},
   "source": [
    "Parece que hay dos columnas nombradas como Unnamed 22 /Unnamed 23 , de las cuales todos sus valores son nan.\n",
    "Y podemos observar que las columnas case number esta repetida 3 veces a simple vista, a falta de comprobación. \n",
    "Vamos a comprobar si es asi para toda la columna o solo son estos casos que nos muestra el head del data frame."
   ]
  },
  {
   "cell_type": "code",
   "execution_count": 7,
   "metadata": {},
   "outputs": [
    {
     "name": "stdout",
     "output_type": "stream",
     "text": [
      "<class 'pandas.core.frame.DataFrame'>\n",
      "RangeIndex: 25723 entries, 0 to 25722\n",
      "Data columns (total 24 columns):\n",
      " #   Column                  Non-Null Count  Dtype  \n",
      "---  ------                  --------------  -----  \n",
      " 0   Case Number             8702 non-null   object \n",
      " 1   Date                    6302 non-null   object \n",
      " 2   Year                    6300 non-null   float64\n",
      " 3   Type                    6298 non-null   object \n",
      " 4   Country                 6252 non-null   object \n",
      " 5   Area                    5847 non-null   object \n",
      " 6   Location                5762 non-null   object \n",
      " 7   Activity                5758 non-null   object \n",
      " 8   Name                    6092 non-null   object \n",
      " 9   Sex                     5737 non-null   object \n",
      " 10  Age                     3471 non-null   object \n",
      " 11  Injury                  6274 non-null   object \n",
      " 12  Fatal (Y/N)             5763 non-null   object \n",
      " 13  Time                    2948 non-null   object \n",
      " 14  Species                 3464 non-null   object \n",
      " 15  Investigator or Source  6285 non-null   object \n",
      " 16  pdf                     6302 non-null   object \n",
      " 17  href formula            6301 non-null   object \n",
      " 18  href                    6302 non-null   object \n",
      " 19  Case Number.1           6302 non-null   object \n",
      " 20  Case Number.2           6302 non-null   object \n",
      " 21  original order          6309 non-null   float64\n",
      " 22  Unnamed: 22             1 non-null      object \n",
      " 23  Unnamed: 23             2 non-null      object \n",
      "dtypes: float64(2), object(22)\n",
      "memory usage: 4.7+ MB\n"
     ]
    }
   ],
   "source": [
    "#.info nos permite obtener este pick sobre el database, \n",
    "# como podeos observar en las columnas mecioandas solo tiene 3 no NaN \n",
    "df.info()"
   ]
  },
  {
   "cell_type": "code",
   "execution_count": 8,
   "metadata": {},
   "outputs": [],
   "source": [
    "#Eliminacion de las columnas 22 y 23"
   ]
  },
  {
   "cell_type": "code",
   "execution_count": 9,
   "metadata": {},
   "outputs": [],
   "source": [
    "df_no_unamed=df.drop([\"Unnamed: 22\" ,\"Unnamed: 23\"] ,axis=1)"
   ]
  },
  {
   "cell_type": "code",
   "execution_count": 10,
   "metadata": {},
   "outputs": [
    {
     "data": {
      "text/plain": [
       "Case Number               17021\n",
       "Date                      19421\n",
       "Year                      19423\n",
       "Type                      19425\n",
       "Country                   19471\n",
       "Area                      19876\n",
       "Location                  19961\n",
       "Activity                  19965\n",
       "Name                      19631\n",
       "Sex                       19986\n",
       "Age                       22252\n",
       "Injury                    19449\n",
       "Fatal (Y/N)               19960\n",
       "Time                      22775\n",
       "Species                   22259\n",
       "Investigator or Source    19438\n",
       "pdf                       19421\n",
       "href formula              19422\n",
       "href                      19421\n",
       "Case Number.1             19421\n",
       "Case Number.2             19421\n",
       "original order            19414\n",
       "dtype: int64"
      ]
     },
     "execution_count": 10,
     "metadata": {},
     "output_type": "execute_result"
    }
   ],
   "source": [
    "#Estos son el numero total de NaN por columnas que dispone nuestro dataframe\n",
    "df_no_unamed.isna().sum()"
   ]
  },
  {
   "cell_type": "code",
   "execution_count": 11,
   "metadata": {},
   "outputs": [],
   "source": [
    "#Vamos a comprobar la similitud de las columnas case number 1 y case number 2"
   ]
  },
  {
   "cell_type": "code",
   "execution_count": 12,
   "metadata": {},
   "outputs": [
    {
     "name": "stdout",
     "output_type": "stream",
     "text": [
      "False -> No son iguales\n"
     ]
    }
   ],
   "source": [
    "print(df_no_unamed[\"Case Number.1\"].equals(df_no_unamed[\"Case Number.2\"]),\"-> No son iguales\")"
   ]
  },
  {
   "cell_type": "code",
   "execution_count": 13,
   "metadata": {},
   "outputs": [
    {
     "name": "stdout",
     "output_type": "stream",
     "text": [
      "19441  casos en los que no son iguales C.1 y C.2\n"
     ]
    }
   ],
   "source": [
    "print(len(df_no_unamed[df_no_unamed[\"Case Number.1\"]!=df_no_unamed[\"Case Number.2\"]]),\" casos en los que no son iguales C.1 y C.2\" )"
   ]
  },
  {
   "cell_type": "code",
   "execution_count": 14,
   "metadata": {},
   "outputs": [
    {
     "data": {
      "text/html": [
       "<div>\n",
       "<style scoped>\n",
       "    .dataframe tbody tr th:only-of-type {\n",
       "        vertical-align: middle;\n",
       "    }\n",
       "\n",
       "    .dataframe tbody tr th {\n",
       "        vertical-align: top;\n",
       "    }\n",
       "\n",
       "    .dataframe thead th {\n",
       "        text-align: right;\n",
       "    }\n",
       "</style>\n",
       "<table border=\"1\" class=\"dataframe\">\n",
       "  <thead>\n",
       "    <tr style=\"text-align: right;\">\n",
       "      <th></th>\n",
       "      <th>Case Number</th>\n",
       "      <th>Date</th>\n",
       "      <th>Year</th>\n",
       "      <th>Type</th>\n",
       "      <th>Country</th>\n",
       "      <th>Area</th>\n",
       "      <th>Location</th>\n",
       "      <th>Activity</th>\n",
       "      <th>Name</th>\n",
       "      <th>Sex</th>\n",
       "      <th>...</th>\n",
       "      <th>Fatal (Y/N)</th>\n",
       "      <th>Time</th>\n",
       "      <th>Species</th>\n",
       "      <th>Investigator or Source</th>\n",
       "      <th>pdf</th>\n",
       "      <th>href formula</th>\n",
       "      <th>href</th>\n",
       "      <th>Case Number.1</th>\n",
       "      <th>Case Number.2</th>\n",
       "      <th>original order</th>\n",
       "    </tr>\n",
       "  </thead>\n",
       "  <tbody>\n",
       "    <tr>\n",
       "      <th>34</th>\n",
       "      <td>2018.04.03</td>\n",
       "      <td>03-Apr-2018</td>\n",
       "      <td>2018.0</td>\n",
       "      <td>Unprovoked</td>\n",
       "      <td>SOUTH AFRICA</td>\n",
       "      <td>Eastern Cape Province</td>\n",
       "      <td>St. Francis Bay</td>\n",
       "      <td>Surfing</td>\n",
       "      <td>Ross Spowart</td>\n",
       "      <td>M</td>\n",
       "      <td>...</td>\n",
       "      <td>N</td>\n",
       "      <td>15h00</td>\n",
       "      <td>White shark</td>\n",
       "      <td>K. McMurray, TrackingSharks.com</td>\n",
       "      <td>2018.04.03-StFrancisBay.pdf</td>\n",
       "      <td>http://sharkattackfile.net/spreadsheets/pdf_di...</td>\n",
       "      <td>http://sharkattackfile.net/spreadsheets/pdf_di...</td>\n",
       "      <td>2018.04.02</td>\n",
       "      <td>2018.04.03</td>\n",
       "      <td>6269.0</td>\n",
       "    </tr>\n",
       "    <tr>\n",
       "      <th>117</th>\n",
       "      <td>2017.07.20.a</td>\n",
       "      <td>20-Jul-2017</td>\n",
       "      <td>2017.0</td>\n",
       "      <td>Unprovoked</td>\n",
       "      <td>USA</td>\n",
       "      <td>California</td>\n",
       "      <td>Seal Rock, Goleta Beach, Santa Barbara</td>\n",
       "      <td>SUP</td>\n",
       "      <td>Rolf Geyling</td>\n",
       "      <td>M</td>\n",
       "      <td>...</td>\n",
       "      <td>N</td>\n",
       "      <td>07h45</td>\n",
       "      <td>White shark, 8' to 10'</td>\n",
       "      <td>R. Collier, GSAF</td>\n",
       "      <td>2017.07.20.a-Geyling.pdf</td>\n",
       "      <td>http://sharkattackfile.net/spreadsheets/pdf_di...</td>\n",
       "      <td>http://sharkattackfile.net/spreadsheets/pdf_di...</td>\n",
       "      <td>2017/07.20.a</td>\n",
       "      <td>2017.07.20.a</td>\n",
       "      <td>6186.0</td>\n",
       "    </tr>\n",
       "    <tr>\n",
       "      <th>144</th>\n",
       "      <td>2017.05.06</td>\n",
       "      <td>05-May-2017</td>\n",
       "      <td>2017.0</td>\n",
       "      <td>Unprovoked</td>\n",
       "      <td>MEXICO</td>\n",
       "      <td>Baja California Sur</td>\n",
       "      <td>Los Arbolitos, Cabo Pulmo</td>\n",
       "      <td>Snorkeling</td>\n",
       "      <td>Andres Rozada</td>\n",
       "      <td>M</td>\n",
       "      <td>...</td>\n",
       "      <td>Y</td>\n",
       "      <td>17h00</td>\n",
       "      <td>NaN</td>\n",
       "      <td>J. Rozada</td>\n",
       "      <td>2017.05.06-Rozada.pdf</td>\n",
       "      <td>http://sharkattackfile.net/spreadsheets/pdf_di...</td>\n",
       "      <td>http://sharkattackfile.net/spreadsheets/pdf_di...</td>\n",
       "      <td>2017.06.06</td>\n",
       "      <td>2017.05.06</td>\n",
       "      <td>6159.0</td>\n",
       "    </tr>\n",
       "    <tr>\n",
       "      <th>217</th>\n",
       "      <td>2016.09.15</td>\n",
       "      <td>16-Sep-2016</td>\n",
       "      <td>2016.0</td>\n",
       "      <td>Unprovoked</td>\n",
       "      <td>AUSTRALIA</td>\n",
       "      <td>Victoria</td>\n",
       "      <td>Bells Beach</td>\n",
       "      <td>Surfing</td>\n",
       "      <td>male</td>\n",
       "      <td>M</td>\n",
       "      <td>...</td>\n",
       "      <td>N</td>\n",
       "      <td>NaN</td>\n",
       "      <td>2 m shark</td>\n",
       "      <td>The Age, 9/16/2016</td>\n",
       "      <td>2016.09.16-BellsBeach.pdf</td>\n",
       "      <td>http://sharkattackfile.net/spreadsheets/pdf_di...</td>\n",
       "      <td>http://sharkattackfile.net/spreadsheets/pdf_di...</td>\n",
       "      <td>2016.09.16</td>\n",
       "      <td>2016.09.15</td>\n",
       "      <td>6086.0</td>\n",
       "    </tr>\n",
       "    <tr>\n",
       "      <th>314</th>\n",
       "      <td>2016.01.24.b</td>\n",
       "      <td>24-Jan-2016</td>\n",
       "      <td>2016.0</td>\n",
       "      <td>Unprovoked</td>\n",
       "      <td>USA</td>\n",
       "      <td>Texas</td>\n",
       "      <td>Off Surfside</td>\n",
       "      <td>Spearfishing</td>\n",
       "      <td>Keith Love</td>\n",
       "      <td>M</td>\n",
       "      <td>...</td>\n",
       "      <td>N</td>\n",
       "      <td>09h30 / 10h00</td>\n",
       "      <td>Bull sharks x 2</td>\n",
       "      <td>K. Love</td>\n",
       "      <td>2016.01.24.b-Love.pdf</td>\n",
       "      <td>http://sharkattackfile.net/spreadsheets/pdf_di...</td>\n",
       "      <td>http://sharkattackfile.net/spreadsheets/pdf_di...</td>\n",
       "      <td>2015.01.24.b</td>\n",
       "      <td>2016.01.24.b</td>\n",
       "      <td>5989.0</td>\n",
       "    </tr>\n",
       "  </tbody>\n",
       "</table>\n",
       "<p>5 rows × 22 columns</p>\n",
       "</div>"
      ],
      "text/plain": [
       "      Case Number         Date    Year        Type       Country  \\\n",
       "34     2018.04.03  03-Apr-2018  2018.0  Unprovoked  SOUTH AFRICA   \n",
       "117  2017.07.20.a  20-Jul-2017  2017.0  Unprovoked           USA   \n",
       "144    2017.05.06  05-May-2017  2017.0  Unprovoked        MEXICO   \n",
       "217    2016.09.15  16-Sep-2016  2016.0  Unprovoked     AUSTRALIA   \n",
       "314  2016.01.24.b  24-Jan-2016  2016.0  Unprovoked           USA   \n",
       "\n",
       "                      Area                                Location  \\\n",
       "34   Eastern Cape Province                         St. Francis Bay   \n",
       "117             California  Seal Rock, Goleta Beach, Santa Barbara   \n",
       "144    Baja California Sur               Los Arbolitos, Cabo Pulmo   \n",
       "217               Victoria                             Bells Beach   \n",
       "314                  Texas                            Off Surfside   \n",
       "\n",
       "         Activity           Name Sex   ... Fatal (Y/N)           Time  \\\n",
       "34        Surfing   Ross Spowart    M  ...           N          15h00   \n",
       "117           SUP   Rolf Geyling    M  ...           N          07h45   \n",
       "144    Snorkeling  Andres Rozada    M  ...           Y          17h00   \n",
       "217       Surfing           male    M  ...           N            NaN   \n",
       "314  Spearfishing     Keith Love    M  ...           N  09h30 / 10h00   \n",
       "\n",
       "                   Species            Investigator or Source  \\\n",
       "34              White shark  K. McMurray, TrackingSharks.com   \n",
       "117  White shark, 8' to 10'                 R. Collier, GSAF   \n",
       "144                     NaN                        J. Rozada   \n",
       "217               2 m shark               The Age, 9/16/2016   \n",
       "314         Bull sharks x 2                          K. Love   \n",
       "\n",
       "                             pdf  \\\n",
       "34   2018.04.03-StFrancisBay.pdf   \n",
       "117     2017.07.20.a-Geyling.pdf   \n",
       "144        2017.05.06-Rozada.pdf   \n",
       "217    2016.09.16-BellsBeach.pdf   \n",
       "314        2016.01.24.b-Love.pdf   \n",
       "\n",
       "                                          href formula  \\\n",
       "34   http://sharkattackfile.net/spreadsheets/pdf_di...   \n",
       "117  http://sharkattackfile.net/spreadsheets/pdf_di...   \n",
       "144  http://sharkattackfile.net/spreadsheets/pdf_di...   \n",
       "217  http://sharkattackfile.net/spreadsheets/pdf_di...   \n",
       "314  http://sharkattackfile.net/spreadsheets/pdf_di...   \n",
       "\n",
       "                                                  href Case Number.1  \\\n",
       "34   http://sharkattackfile.net/spreadsheets/pdf_di...    2018.04.02   \n",
       "117  http://sharkattackfile.net/spreadsheets/pdf_di...  2017/07.20.a   \n",
       "144  http://sharkattackfile.net/spreadsheets/pdf_di...    2017.06.06   \n",
       "217  http://sharkattackfile.net/spreadsheets/pdf_di...    2016.09.16   \n",
       "314  http://sharkattackfile.net/spreadsheets/pdf_di...  2015.01.24.b   \n",
       "\n",
       "    Case Number.2 original order  \n",
       "34     2018.04.03         6269.0  \n",
       "117  2017.07.20.a         6186.0  \n",
       "144    2017.05.06         6159.0  \n",
       "217    2016.09.15         6086.0  \n",
       "314  2016.01.24.b         5989.0  \n",
       "\n",
       "[5 rows x 22 columns]"
      ]
     },
     "execution_count": 14,
     "metadata": {},
     "output_type": "execute_result"
    }
   ],
   "source": [
    "#Exploremos\n",
    "df_no_unamed[df_no_unamed[\"Case Number.1\"]!=df_no_unamed[\"Case Number.2\"]].head()"
   ]
  },
  {
   "cell_type": "markdown",
   "metadata": {},
   "source": [
    "Podemos observar como la discrepancia no solo es en la introduccion de los datos , sino tambien entre las fechas en si. A raiz de esto utilizaremos el \"Case Number\" junto a \"Date\" ya que es el de los tres el que menos NaN tiene, y en caso de utilizarlo podremos usar \"Date\" para corroborarlo."
   ]
  },
  {
   "cell_type": "code",
   "execution_count": 15,
   "metadata": {},
   "outputs": [],
   "source": [
    "#Antes de seguir eliminado datos, vamos a seleccionar con que columnas  vamos a trabajar, necesaria para nuestras hipotesis.\n",
    "#Ya que podemos dañar posibles datos utiles.\n",
    "\n",
    "df_no_unamed=df_no_unamed[['Date', 'Year', 'Type', 'Country', 'Area',\n",
    "       'Activity','Sex ', 'Age', 'Injury', 'Fatal (Y/N)', 'Time',\n",
    "       'Species '] ]\n"
   ]
  },
  {
   "cell_type": "markdown",
   "metadata": {},
   "source": [
    "# Rows"
   ]
  },
  {
   "cell_type": "code",
   "execution_count": 16,
   "metadata": {},
   "outputs": [],
   "source": [
    "#Como podemos obervar sigue habiendo un monton de filas donde la gran mayoria de datos son Nan, por ello\n",
    "#Ahora mismo el objetivo es eliminar todas las filas que contengas valores <> de NaN\n",
    "#De esta forma eliminamos todas aquellas filas donde todos lo valores sean NaN"
   ]
  },
  {
   "cell_type": "code",
   "execution_count": 17,
   "metadata": {},
   "outputs": [
    {
     "data": {
      "text/html": [
       "<div>\n",
       "<style scoped>\n",
       "    .dataframe tbody tr th:only-of-type {\n",
       "        vertical-align: middle;\n",
       "    }\n",
       "\n",
       "    .dataframe tbody tr th {\n",
       "        vertical-align: top;\n",
       "    }\n",
       "\n",
       "    .dataframe thead th {\n",
       "        text-align: right;\n",
       "    }\n",
       "</style>\n",
       "<table border=\"1\" class=\"dataframe\">\n",
       "  <thead>\n",
       "    <tr style=\"text-align: right;\">\n",
       "      <th></th>\n",
       "      <th>Date</th>\n",
       "      <th>Year</th>\n",
       "      <th>Type</th>\n",
       "      <th>Country</th>\n",
       "      <th>Area</th>\n",
       "      <th>Activity</th>\n",
       "      <th>Sex</th>\n",
       "      <th>Age</th>\n",
       "      <th>Injury</th>\n",
       "      <th>Fatal (Y/N)</th>\n",
       "      <th>Time</th>\n",
       "      <th>Species</th>\n",
       "    </tr>\n",
       "  </thead>\n",
       "  <tbody>\n",
       "    <tr>\n",
       "      <th>0</th>\n",
       "      <td>25-Jun-2018</td>\n",
       "      <td>2018.0</td>\n",
       "      <td>Boating</td>\n",
       "      <td>USA</td>\n",
       "      <td>California</td>\n",
       "      <td>Paddling</td>\n",
       "      <td>F</td>\n",
       "      <td>57</td>\n",
       "      <td>No injury to occupant, outrigger canoe and pad...</td>\n",
       "      <td>N</td>\n",
       "      <td>18h00</td>\n",
       "      <td>White shark</td>\n",
       "    </tr>\n",
       "    <tr>\n",
       "      <th>1</th>\n",
       "      <td>18-Jun-2018</td>\n",
       "      <td>2018.0</td>\n",
       "      <td>Unprovoked</td>\n",
       "      <td>USA</td>\n",
       "      <td>Georgia</td>\n",
       "      <td>Standing</td>\n",
       "      <td>F</td>\n",
       "      <td>11</td>\n",
       "      <td>Minor injury to left thigh</td>\n",
       "      <td>N</td>\n",
       "      <td>14h00  -15h00</td>\n",
       "      <td>NaN</td>\n",
       "    </tr>\n",
       "    <tr>\n",
       "      <th>2</th>\n",
       "      <td>09-Jun-2018</td>\n",
       "      <td>2018.0</td>\n",
       "      <td>Invalid</td>\n",
       "      <td>USA</td>\n",
       "      <td>Hawaii</td>\n",
       "      <td>Surfing</td>\n",
       "      <td>M</td>\n",
       "      <td>48</td>\n",
       "      <td>Injury to left lower leg from surfboard skeg</td>\n",
       "      <td>N</td>\n",
       "      <td>07h45</td>\n",
       "      <td>NaN</td>\n",
       "    </tr>\n",
       "    <tr>\n",
       "      <th>6</th>\n",
       "      <td>03-Jun-2018</td>\n",
       "      <td>2018.0</td>\n",
       "      <td>Unprovoked</td>\n",
       "      <td>BRAZIL</td>\n",
       "      <td>Pernambuco</td>\n",
       "      <td>Swimming</td>\n",
       "      <td>M</td>\n",
       "      <td>18</td>\n",
       "      <td>FATAL</td>\n",
       "      <td>Y</td>\n",
       "      <td>Late afternoon</td>\n",
       "      <td>Tiger shark</td>\n",
       "    </tr>\n",
       "    <tr>\n",
       "      <th>7</th>\n",
       "      <td>27-May-2018</td>\n",
       "      <td>2018.0</td>\n",
       "      <td>Unprovoked</td>\n",
       "      <td>USA</td>\n",
       "      <td>Florida</td>\n",
       "      <td>Fishing</td>\n",
       "      <td>M</td>\n",
       "      <td>52</td>\n",
       "      <td>Minor injury to foot. PROVOKED INCIDENT</td>\n",
       "      <td>N</td>\n",
       "      <td>NaN</td>\n",
       "      <td>Lemon shark, 3'</td>\n",
       "    </tr>\n",
       "    <tr>\n",
       "      <th>...</th>\n",
       "      <td>...</td>\n",
       "      <td>...</td>\n",
       "      <td>...</td>\n",
       "      <td>...</td>\n",
       "      <td>...</td>\n",
       "      <td>...</td>\n",
       "      <td>...</td>\n",
       "      <td>...</td>\n",
       "      <td>...</td>\n",
       "      <td>...</td>\n",
       "      <td>...</td>\n",
       "      <td>...</td>\n",
       "    </tr>\n",
       "    <tr>\n",
       "      <th>6239</th>\n",
       "      <td>Before 1962</td>\n",
       "      <td>0.0</td>\n",
       "      <td>Unprovoked</td>\n",
       "      <td>MOZAMBIQUE</td>\n",
       "      <td>Maputo Province</td>\n",
       "      <td>Skindiving</td>\n",
       "      <td>M</td>\n",
       "      <td>36</td>\n",
       "      <td>Bumped by sharks</td>\n",
       "      <td>N</td>\n",
       "      <td>NaN</td>\n",
       "      <td>\"A pack of sharks\"</td>\n",
       "    </tr>\n",
       "    <tr>\n",
       "      <th>6241</th>\n",
       "      <td>1960s</td>\n",
       "      <td>0.0</td>\n",
       "      <td>Unprovoked</td>\n",
       "      <td>IRAQ</td>\n",
       "      <td>Basrah</td>\n",
       "      <td>Fishing from a small boat &amp; put his hand in th...</td>\n",
       "      <td>M</td>\n",
       "      <td>25</td>\n",
       "      <td>Right hand severed</td>\n",
       "      <td>N</td>\n",
       "      <td>Afternoon</td>\n",
       "      <td>NaN</td>\n",
       "    </tr>\n",
       "    <tr>\n",
       "      <th>6242</th>\n",
       "      <td>1960s</td>\n",
       "      <td>0.0</td>\n",
       "      <td>Unprovoked</td>\n",
       "      <td>IRAQ</td>\n",
       "      <td>Basrah</td>\n",
       "      <td>Swimming naked near a date palm where many dat...</td>\n",
       "      <td>M</td>\n",
       "      <td>6</td>\n",
       "      <td>Arm severed</td>\n",
       "      <td>N</td>\n",
       "      <td>Afternoon</td>\n",
       "      <td>Bull shark</td>\n",
       "    </tr>\n",
       "    <tr>\n",
       "      <th>6243</th>\n",
       "      <td>1960s</td>\n",
       "      <td>0.0</td>\n",
       "      <td>Unprovoked</td>\n",
       "      <td>IRAQ</td>\n",
       "      <td>Basrah</td>\n",
       "      <td>Swimming in section of river used for washing ...</td>\n",
       "      <td>M</td>\n",
       "      <td>16</td>\n",
       "      <td>Right leg lacerated &amp; surgically amputated</td>\n",
       "      <td>N</td>\n",
       "      <td>Afternoon</td>\n",
       "      <td>Bull shark</td>\n",
       "    </tr>\n",
       "    <tr>\n",
       "      <th>6265</th>\n",
       "      <td>1941-1942</td>\n",
       "      <td>0.0</td>\n",
       "      <td>Unprovoked</td>\n",
       "      <td>IRAQ</td>\n",
       "      <td>Basrah</td>\n",
       "      <td>Swimming</td>\n",
       "      <td>M</td>\n",
       "      <td>13 or 14</td>\n",
       "      <td>FATAL, left leg bitten with severe blood loss</td>\n",
       "      <td>Y</td>\n",
       "      <td>Afternoon</td>\n",
       "      <td>Bull shark</td>\n",
       "    </tr>\n",
       "  </tbody>\n",
       "</table>\n",
       "<p>2982 rows × 12 columns</p>\n",
       "</div>"
      ],
      "text/plain": [
       "             Date    Year        Type     Country             Area  \\\n",
       "0     25-Jun-2018  2018.0     Boating         USA       California   \n",
       "1     18-Jun-2018  2018.0  Unprovoked         USA          Georgia   \n",
       "2     09-Jun-2018  2018.0     Invalid         USA           Hawaii   \n",
       "6     03-Jun-2018  2018.0  Unprovoked      BRAZIL       Pernambuco   \n",
       "7     27-May-2018  2018.0  Unprovoked         USA          Florida   \n",
       "...           ...     ...         ...         ...              ...   \n",
       "6239  Before 1962     0.0  Unprovoked  MOZAMBIQUE  Maputo Province   \n",
       "6241        1960s     0.0  Unprovoked        IRAQ           Basrah   \n",
       "6242        1960s     0.0  Unprovoked        IRAQ           Basrah   \n",
       "6243        1960s     0.0  Unprovoked        IRAQ           Basrah   \n",
       "6265    1941-1942     0.0  Unprovoked        IRAQ           Basrah   \n",
       "\n",
       "                                               Activity Sex        Age  \\\n",
       "0                                              Paddling    F        57   \n",
       "1                                              Standing    F        11   \n",
       "2                                               Surfing    M        48   \n",
       "6                                              Swimming    M        18   \n",
       "7                                               Fishing    M        52   \n",
       "...                                                 ...  ...       ...   \n",
       "6239                                         Skindiving    M        36   \n",
       "6241  Fishing from a small boat & put his hand in th...    M        25   \n",
       "6242  Swimming naked near a date palm where many dat...    M         6   \n",
       "6243  Swimming in section of river used for washing ...    M        16   \n",
       "6265                                           Swimming    M  13 or 14   \n",
       "\n",
       "                                                 Injury Fatal (Y/N)  \\\n",
       "0     No injury to occupant, outrigger canoe and pad...           N   \n",
       "1                            Minor injury to left thigh           N   \n",
       "2          Injury to left lower leg from surfboard skeg           N   \n",
       "6                                                 FATAL           Y   \n",
       "7               Minor injury to foot. PROVOKED INCIDENT           N   \n",
       "...                                                 ...         ...   \n",
       "6239                                   Bumped by sharks           N   \n",
       "6241                                 Right hand severed           N   \n",
       "6242                                        Arm severed           N   \n",
       "6243         Right leg lacerated & surgically amputated           N   \n",
       "6265      FATAL, left leg bitten with severe blood loss           Y   \n",
       "\n",
       "                Time            Species   \n",
       "0              18h00         White shark  \n",
       "1      14h00  -15h00                 NaN  \n",
       "2              07h45                 NaN  \n",
       "6     Late afternoon         Tiger shark  \n",
       "7                NaN     Lemon shark, 3'  \n",
       "...              ...                 ...  \n",
       "6239             NaN  \"A pack of sharks\"  \n",
       "6241       Afternoon                 NaN  \n",
       "6242       Afternoon          Bull shark  \n",
       "6243       Afternoon          Bull shark  \n",
       "6265       Afternoon          Bull shark  \n",
       "\n",
       "[2982 rows x 12 columns]"
      ]
     },
     "execution_count": 17,
     "metadata": {},
     "output_type": "execute_result"
    }
   ],
   "source": [
    "df_no_unamed=df_no_unamed.dropna(axis=0, how='any', thresh=11)\n",
    "df_no_unamed"
   ]
  },
  {
   "cell_type": "code",
   "execution_count": 18,
   "metadata": {},
   "outputs": [
    {
     "data": {
      "text/plain": [
       "Date             0\n",
       "Year             0\n",
       "Type             0\n",
       "Country          0\n",
       "Area            17\n",
       "Activity        16\n",
       "Sex              8\n",
       "Age            226\n",
       "Injury           0\n",
       "Fatal (Y/N)     87\n",
       "Time           456\n",
       "Species        737\n",
       "dtype: int64"
      ]
     },
     "execution_count": 18,
     "metadata": {},
     "output_type": "execute_result"
    }
   ],
   "source": [
    "#Como podemos comprobar a continuacion el numero de casos donde hay NaN se ha reducido muchisimo\n",
    "df_no_unamed.isna().sum()"
   ]
  },
  {
   "cell_type": "code",
   "execution_count": 19,
   "metadata": {
    "scrolled": false
   },
   "outputs": [
    {
     "data": {
      "text/html": [
       "<div>\n",
       "<style scoped>\n",
       "    .dataframe tbody tr th:only-of-type {\n",
       "        vertical-align: middle;\n",
       "    }\n",
       "\n",
       "    .dataframe tbody tr th {\n",
       "        vertical-align: top;\n",
       "    }\n",
       "\n",
       "    .dataframe thead th {\n",
       "        text-align: right;\n",
       "    }\n",
       "</style>\n",
       "<table border=\"1\" class=\"dataframe\">\n",
       "  <thead>\n",
       "    <tr style=\"text-align: right;\">\n",
       "      <th></th>\n",
       "      <th>Date</th>\n",
       "      <th>Year</th>\n",
       "      <th>Type</th>\n",
       "      <th>Country</th>\n",
       "      <th>Area</th>\n",
       "      <th>Activity</th>\n",
       "      <th>Sex</th>\n",
       "      <th>Age</th>\n",
       "      <th>Injury</th>\n",
       "      <th>Fatal (Y/N)</th>\n",
       "      <th>Time</th>\n",
       "      <th>Species</th>\n",
       "    </tr>\n",
       "  </thead>\n",
       "  <tbody>\n",
       "    <tr>\n",
       "      <th>0</th>\n",
       "      <td>25-Jun-2018</td>\n",
       "      <td>2018.0</td>\n",
       "      <td>Boating</td>\n",
       "      <td>USA</td>\n",
       "      <td>California</td>\n",
       "      <td>Paddling</td>\n",
       "      <td>F</td>\n",
       "      <td>57</td>\n",
       "      <td>No injury to occupant, outrigger canoe and pad...</td>\n",
       "      <td>N</td>\n",
       "      <td>18h00</td>\n",
       "      <td>White shark</td>\n",
       "    </tr>\n",
       "    <tr>\n",
       "      <th>1</th>\n",
       "      <td>18-Jun-2018</td>\n",
       "      <td>2018.0</td>\n",
       "      <td>Unprovoked</td>\n",
       "      <td>USA</td>\n",
       "      <td>Georgia</td>\n",
       "      <td>Standing</td>\n",
       "      <td>F</td>\n",
       "      <td>11</td>\n",
       "      <td>Minor injury to left thigh</td>\n",
       "      <td>N</td>\n",
       "      <td>14h00  -15h00</td>\n",
       "      <td>NaN</td>\n",
       "    </tr>\n",
       "    <tr>\n",
       "      <th>2</th>\n",
       "      <td>09-Jun-2018</td>\n",
       "      <td>2018.0</td>\n",
       "      <td>Invalid</td>\n",
       "      <td>USA</td>\n",
       "      <td>Hawaii</td>\n",
       "      <td>Surfing</td>\n",
       "      <td>M</td>\n",
       "      <td>48</td>\n",
       "      <td>Injury to left lower leg from surfboard skeg</td>\n",
       "      <td>N</td>\n",
       "      <td>07h45</td>\n",
       "      <td>NaN</td>\n",
       "    </tr>\n",
       "    <tr>\n",
       "      <th>6</th>\n",
       "      <td>03-Jun-2018</td>\n",
       "      <td>2018.0</td>\n",
       "      <td>Unprovoked</td>\n",
       "      <td>BRAZIL</td>\n",
       "      <td>Pernambuco</td>\n",
       "      <td>Swimming</td>\n",
       "      <td>M</td>\n",
       "      <td>18</td>\n",
       "      <td>FATAL</td>\n",
       "      <td>Y</td>\n",
       "      <td>Late afternoon</td>\n",
       "      <td>Tiger shark</td>\n",
       "    </tr>\n",
       "    <tr>\n",
       "      <th>7</th>\n",
       "      <td>27-May-2018</td>\n",
       "      <td>2018.0</td>\n",
       "      <td>Unprovoked</td>\n",
       "      <td>USA</td>\n",
       "      <td>Florida</td>\n",
       "      <td>Fishing</td>\n",
       "      <td>M</td>\n",
       "      <td>52</td>\n",
       "      <td>Minor injury to foot. PROVOKED INCIDENT</td>\n",
       "      <td>N</td>\n",
       "      <td>NaN</td>\n",
       "      <td>Lemon shark, 3'</td>\n",
       "    </tr>\n",
       "    <tr>\n",
       "      <th>...</th>\n",
       "      <td>...</td>\n",
       "      <td>...</td>\n",
       "      <td>...</td>\n",
       "      <td>...</td>\n",
       "      <td>...</td>\n",
       "      <td>...</td>\n",
       "      <td>...</td>\n",
       "      <td>...</td>\n",
       "      <td>...</td>\n",
       "      <td>...</td>\n",
       "      <td>...</td>\n",
       "      <td>...</td>\n",
       "    </tr>\n",
       "    <tr>\n",
       "      <th>6239</th>\n",
       "      <td>Before 1962</td>\n",
       "      <td>0.0</td>\n",
       "      <td>Unprovoked</td>\n",
       "      <td>MOZAMBIQUE</td>\n",
       "      <td>Maputo Province</td>\n",
       "      <td>Skindiving</td>\n",
       "      <td>M</td>\n",
       "      <td>36</td>\n",
       "      <td>Bumped by sharks</td>\n",
       "      <td>N</td>\n",
       "      <td>NaN</td>\n",
       "      <td>\"A pack of sharks\"</td>\n",
       "    </tr>\n",
       "    <tr>\n",
       "      <th>6241</th>\n",
       "      <td>1960s</td>\n",
       "      <td>0.0</td>\n",
       "      <td>Unprovoked</td>\n",
       "      <td>IRAQ</td>\n",
       "      <td>Basrah</td>\n",
       "      <td>Fishing from a small boat &amp; put his hand in th...</td>\n",
       "      <td>M</td>\n",
       "      <td>25</td>\n",
       "      <td>Right hand severed</td>\n",
       "      <td>N</td>\n",
       "      <td>Afternoon</td>\n",
       "      <td>NaN</td>\n",
       "    </tr>\n",
       "    <tr>\n",
       "      <th>6242</th>\n",
       "      <td>1960s</td>\n",
       "      <td>0.0</td>\n",
       "      <td>Unprovoked</td>\n",
       "      <td>IRAQ</td>\n",
       "      <td>Basrah</td>\n",
       "      <td>Swimming naked near a date palm where many dat...</td>\n",
       "      <td>M</td>\n",
       "      <td>6</td>\n",
       "      <td>Arm severed</td>\n",
       "      <td>N</td>\n",
       "      <td>Afternoon</td>\n",
       "      <td>Bull shark</td>\n",
       "    </tr>\n",
       "    <tr>\n",
       "      <th>6243</th>\n",
       "      <td>1960s</td>\n",
       "      <td>0.0</td>\n",
       "      <td>Unprovoked</td>\n",
       "      <td>IRAQ</td>\n",
       "      <td>Basrah</td>\n",
       "      <td>Swimming in section of river used for washing ...</td>\n",
       "      <td>M</td>\n",
       "      <td>16</td>\n",
       "      <td>Right leg lacerated &amp; surgically amputated</td>\n",
       "      <td>N</td>\n",
       "      <td>Afternoon</td>\n",
       "      <td>Bull shark</td>\n",
       "    </tr>\n",
       "    <tr>\n",
       "      <th>6265</th>\n",
       "      <td>1941-1942</td>\n",
       "      <td>0.0</td>\n",
       "      <td>Unprovoked</td>\n",
       "      <td>IRAQ</td>\n",
       "      <td>Basrah</td>\n",
       "      <td>Swimming</td>\n",
       "      <td>M</td>\n",
       "      <td>13 or 14</td>\n",
       "      <td>FATAL, left leg bitten with severe blood loss</td>\n",
       "      <td>Y</td>\n",
       "      <td>Afternoon</td>\n",
       "      <td>Bull shark</td>\n",
       "    </tr>\n",
       "  </tbody>\n",
       "</table>\n",
       "<p>2982 rows × 12 columns</p>\n",
       "</div>"
      ],
      "text/plain": [
       "             Date    Year        Type     Country             Area  \\\n",
       "0     25-Jun-2018  2018.0     Boating         USA       California   \n",
       "1     18-Jun-2018  2018.0  Unprovoked         USA          Georgia   \n",
       "2     09-Jun-2018  2018.0     Invalid         USA           Hawaii   \n",
       "6     03-Jun-2018  2018.0  Unprovoked      BRAZIL       Pernambuco   \n",
       "7     27-May-2018  2018.0  Unprovoked         USA          Florida   \n",
       "...           ...     ...         ...         ...              ...   \n",
       "6239  Before 1962     0.0  Unprovoked  MOZAMBIQUE  Maputo Province   \n",
       "6241        1960s     0.0  Unprovoked        IRAQ           Basrah   \n",
       "6242        1960s     0.0  Unprovoked        IRAQ           Basrah   \n",
       "6243        1960s     0.0  Unprovoked        IRAQ           Basrah   \n",
       "6265    1941-1942     0.0  Unprovoked        IRAQ           Basrah   \n",
       "\n",
       "                                               Activity Sex        Age  \\\n",
       "0                                              Paddling    F        57   \n",
       "1                                              Standing    F        11   \n",
       "2                                               Surfing    M        48   \n",
       "6                                              Swimming    M        18   \n",
       "7                                               Fishing    M        52   \n",
       "...                                                 ...  ...       ...   \n",
       "6239                                         Skindiving    M        36   \n",
       "6241  Fishing from a small boat & put his hand in th...    M        25   \n",
       "6242  Swimming naked near a date palm where many dat...    M         6   \n",
       "6243  Swimming in section of river used for washing ...    M        16   \n",
       "6265                                           Swimming    M  13 or 14   \n",
       "\n",
       "                                                 Injury Fatal (Y/N)  \\\n",
       "0     No injury to occupant, outrigger canoe and pad...           N   \n",
       "1                            Minor injury to left thigh           N   \n",
       "2          Injury to left lower leg from surfboard skeg           N   \n",
       "6                                                 FATAL           Y   \n",
       "7               Minor injury to foot. PROVOKED INCIDENT           N   \n",
       "...                                                 ...         ...   \n",
       "6239                                   Bumped by sharks           N   \n",
       "6241                                 Right hand severed           N   \n",
       "6242                                        Arm severed           N   \n",
       "6243         Right leg lacerated & surgically amputated           N   \n",
       "6265      FATAL, left leg bitten with severe blood loss           Y   \n",
       "\n",
       "                Time            Species   \n",
       "0              18h00         White shark  \n",
       "1      14h00  -15h00                 NaN  \n",
       "2              07h45                 NaN  \n",
       "6     Late afternoon         Tiger shark  \n",
       "7                NaN     Lemon shark, 3'  \n",
       "...              ...                 ...  \n",
       "6239             NaN  \"A pack of sharks\"  \n",
       "6241       Afternoon                 NaN  \n",
       "6242       Afternoon          Bull shark  \n",
       "6243       Afternoon          Bull shark  \n",
       "6265       Afternoon          Bull shark  \n",
       "\n",
       "[2982 rows x 12 columns]"
      ]
     },
     "execution_count": 19,
     "metadata": {},
     "output_type": "execute_result"
    }
   ],
   "source": [
    "#Vamos a volver a echar un ojo al dataframe:\n",
    "df_no_unamed"
   ]
  },
  {
   "cell_type": "code",
   "execution_count": 20,
   "metadata": {},
   "outputs": [],
   "source": [
    "#Como hemos podido ver el index hay que re-establecerlo, en este caso hemos de re-establecer el index"
   ]
  },
  {
   "cell_type": "code",
   "execution_count": 21,
   "metadata": {},
   "outputs": [
    {
     "data": {
      "text/html": [
       "<div>\n",
       "<style scoped>\n",
       "    .dataframe tbody tr th:only-of-type {\n",
       "        vertical-align: middle;\n",
       "    }\n",
       "\n",
       "    .dataframe tbody tr th {\n",
       "        vertical-align: top;\n",
       "    }\n",
       "\n",
       "    .dataframe thead th {\n",
       "        text-align: right;\n",
       "    }\n",
       "</style>\n",
       "<table border=\"1\" class=\"dataframe\">\n",
       "  <thead>\n",
       "    <tr style=\"text-align: right;\">\n",
       "      <th></th>\n",
       "      <th>Date</th>\n",
       "      <th>Year</th>\n",
       "      <th>Type</th>\n",
       "      <th>Country</th>\n",
       "      <th>Area</th>\n",
       "      <th>Activity</th>\n",
       "      <th>Sex</th>\n",
       "      <th>Age</th>\n",
       "      <th>Injury</th>\n",
       "      <th>Fatal (Y/N)</th>\n",
       "      <th>Time</th>\n",
       "      <th>Species</th>\n",
       "    </tr>\n",
       "  </thead>\n",
       "  <tbody>\n",
       "    <tr>\n",
       "      <th>0</th>\n",
       "      <td>25-Jun-2018</td>\n",
       "      <td>2018.0</td>\n",
       "      <td>Boating</td>\n",
       "      <td>USA</td>\n",
       "      <td>California</td>\n",
       "      <td>Paddling</td>\n",
       "      <td>F</td>\n",
       "      <td>57</td>\n",
       "      <td>No injury to occupant, outrigger canoe and pad...</td>\n",
       "      <td>N</td>\n",
       "      <td>18h00</td>\n",
       "      <td>White shark</td>\n",
       "    </tr>\n",
       "    <tr>\n",
       "      <th>1</th>\n",
       "      <td>18-Jun-2018</td>\n",
       "      <td>2018.0</td>\n",
       "      <td>Unprovoked</td>\n",
       "      <td>USA</td>\n",
       "      <td>Georgia</td>\n",
       "      <td>Standing</td>\n",
       "      <td>F</td>\n",
       "      <td>11</td>\n",
       "      <td>Minor injury to left thigh</td>\n",
       "      <td>N</td>\n",
       "      <td>14h00  -15h00</td>\n",
       "      <td>NaN</td>\n",
       "    </tr>\n",
       "    <tr>\n",
       "      <th>2</th>\n",
       "      <td>09-Jun-2018</td>\n",
       "      <td>2018.0</td>\n",
       "      <td>Invalid</td>\n",
       "      <td>USA</td>\n",
       "      <td>Hawaii</td>\n",
       "      <td>Surfing</td>\n",
       "      <td>M</td>\n",
       "      <td>48</td>\n",
       "      <td>Injury to left lower leg from surfboard skeg</td>\n",
       "      <td>N</td>\n",
       "      <td>07h45</td>\n",
       "      <td>NaN</td>\n",
       "    </tr>\n",
       "    <tr>\n",
       "      <th>3</th>\n",
       "      <td>03-Jun-2018</td>\n",
       "      <td>2018.0</td>\n",
       "      <td>Unprovoked</td>\n",
       "      <td>BRAZIL</td>\n",
       "      <td>Pernambuco</td>\n",
       "      <td>Swimming</td>\n",
       "      <td>M</td>\n",
       "      <td>18</td>\n",
       "      <td>FATAL</td>\n",
       "      <td>Y</td>\n",
       "      <td>Late afternoon</td>\n",
       "      <td>Tiger shark</td>\n",
       "    </tr>\n",
       "    <tr>\n",
       "      <th>4</th>\n",
       "      <td>27-May-2018</td>\n",
       "      <td>2018.0</td>\n",
       "      <td>Unprovoked</td>\n",
       "      <td>USA</td>\n",
       "      <td>Florida</td>\n",
       "      <td>Fishing</td>\n",
       "      <td>M</td>\n",
       "      <td>52</td>\n",
       "      <td>Minor injury to foot. PROVOKED INCIDENT</td>\n",
       "      <td>N</td>\n",
       "      <td>NaN</td>\n",
       "      <td>Lemon shark, 3'</td>\n",
       "    </tr>\n",
       "    <tr>\n",
       "      <th>...</th>\n",
       "      <td>...</td>\n",
       "      <td>...</td>\n",
       "      <td>...</td>\n",
       "      <td>...</td>\n",
       "      <td>...</td>\n",
       "      <td>...</td>\n",
       "      <td>...</td>\n",
       "      <td>...</td>\n",
       "      <td>...</td>\n",
       "      <td>...</td>\n",
       "      <td>...</td>\n",
       "      <td>...</td>\n",
       "    </tr>\n",
       "    <tr>\n",
       "      <th>2977</th>\n",
       "      <td>Before 1962</td>\n",
       "      <td>0.0</td>\n",
       "      <td>Unprovoked</td>\n",
       "      <td>MOZAMBIQUE</td>\n",
       "      <td>Maputo Province</td>\n",
       "      <td>Skindiving</td>\n",
       "      <td>M</td>\n",
       "      <td>36</td>\n",
       "      <td>Bumped by sharks</td>\n",
       "      <td>N</td>\n",
       "      <td>NaN</td>\n",
       "      <td>\"A pack of sharks\"</td>\n",
       "    </tr>\n",
       "    <tr>\n",
       "      <th>2978</th>\n",
       "      <td>1960s</td>\n",
       "      <td>0.0</td>\n",
       "      <td>Unprovoked</td>\n",
       "      <td>IRAQ</td>\n",
       "      <td>Basrah</td>\n",
       "      <td>Fishing from a small boat &amp; put his hand in th...</td>\n",
       "      <td>M</td>\n",
       "      <td>25</td>\n",
       "      <td>Right hand severed</td>\n",
       "      <td>N</td>\n",
       "      <td>Afternoon</td>\n",
       "      <td>NaN</td>\n",
       "    </tr>\n",
       "    <tr>\n",
       "      <th>2979</th>\n",
       "      <td>1960s</td>\n",
       "      <td>0.0</td>\n",
       "      <td>Unprovoked</td>\n",
       "      <td>IRAQ</td>\n",
       "      <td>Basrah</td>\n",
       "      <td>Swimming naked near a date palm where many dat...</td>\n",
       "      <td>M</td>\n",
       "      <td>6</td>\n",
       "      <td>Arm severed</td>\n",
       "      <td>N</td>\n",
       "      <td>Afternoon</td>\n",
       "      <td>Bull shark</td>\n",
       "    </tr>\n",
       "    <tr>\n",
       "      <th>2980</th>\n",
       "      <td>1960s</td>\n",
       "      <td>0.0</td>\n",
       "      <td>Unprovoked</td>\n",
       "      <td>IRAQ</td>\n",
       "      <td>Basrah</td>\n",
       "      <td>Swimming in section of river used for washing ...</td>\n",
       "      <td>M</td>\n",
       "      <td>16</td>\n",
       "      <td>Right leg lacerated &amp; surgically amputated</td>\n",
       "      <td>N</td>\n",
       "      <td>Afternoon</td>\n",
       "      <td>Bull shark</td>\n",
       "    </tr>\n",
       "    <tr>\n",
       "      <th>2981</th>\n",
       "      <td>1941-1942</td>\n",
       "      <td>0.0</td>\n",
       "      <td>Unprovoked</td>\n",
       "      <td>IRAQ</td>\n",
       "      <td>Basrah</td>\n",
       "      <td>Swimming</td>\n",
       "      <td>M</td>\n",
       "      <td>13 or 14</td>\n",
       "      <td>FATAL, left leg bitten with severe blood loss</td>\n",
       "      <td>Y</td>\n",
       "      <td>Afternoon</td>\n",
       "      <td>Bull shark</td>\n",
       "    </tr>\n",
       "  </tbody>\n",
       "</table>\n",
       "<p>2982 rows × 12 columns</p>\n",
       "</div>"
      ],
      "text/plain": [
       "             Date    Year        Type     Country             Area  \\\n",
       "0     25-Jun-2018  2018.0     Boating         USA       California   \n",
       "1     18-Jun-2018  2018.0  Unprovoked         USA          Georgia   \n",
       "2     09-Jun-2018  2018.0     Invalid         USA           Hawaii   \n",
       "3     03-Jun-2018  2018.0  Unprovoked      BRAZIL       Pernambuco   \n",
       "4     27-May-2018  2018.0  Unprovoked         USA          Florida   \n",
       "...           ...     ...         ...         ...              ...   \n",
       "2977  Before 1962     0.0  Unprovoked  MOZAMBIQUE  Maputo Province   \n",
       "2978        1960s     0.0  Unprovoked        IRAQ           Basrah   \n",
       "2979        1960s     0.0  Unprovoked        IRAQ           Basrah   \n",
       "2980        1960s     0.0  Unprovoked        IRAQ           Basrah   \n",
       "2981    1941-1942     0.0  Unprovoked        IRAQ           Basrah   \n",
       "\n",
       "                                               Activity Sex        Age  \\\n",
       "0                                              Paddling    F        57   \n",
       "1                                              Standing    F        11   \n",
       "2                                               Surfing    M        48   \n",
       "3                                              Swimming    M        18   \n",
       "4                                               Fishing    M        52   \n",
       "...                                                 ...  ...       ...   \n",
       "2977                                         Skindiving    M        36   \n",
       "2978  Fishing from a small boat & put his hand in th...    M        25   \n",
       "2979  Swimming naked near a date palm where many dat...    M         6   \n",
       "2980  Swimming in section of river used for washing ...    M        16   \n",
       "2981                                           Swimming    M  13 or 14   \n",
       "\n",
       "                                                 Injury Fatal (Y/N)  \\\n",
       "0     No injury to occupant, outrigger canoe and pad...           N   \n",
       "1                            Minor injury to left thigh           N   \n",
       "2          Injury to left lower leg from surfboard skeg           N   \n",
       "3                                                 FATAL           Y   \n",
       "4               Minor injury to foot. PROVOKED INCIDENT           N   \n",
       "...                                                 ...         ...   \n",
       "2977                                   Bumped by sharks           N   \n",
       "2978                                 Right hand severed           N   \n",
       "2979                                        Arm severed           N   \n",
       "2980         Right leg lacerated & surgically amputated           N   \n",
       "2981      FATAL, left leg bitten with severe blood loss           Y   \n",
       "\n",
       "                Time            Species   \n",
       "0              18h00         White shark  \n",
       "1      14h00  -15h00                 NaN  \n",
       "2              07h45                 NaN  \n",
       "3     Late afternoon         Tiger shark  \n",
       "4                NaN     Lemon shark, 3'  \n",
       "...              ...                 ...  \n",
       "2977             NaN  \"A pack of sharks\"  \n",
       "2978       Afternoon                 NaN  \n",
       "2979       Afternoon          Bull shark  \n",
       "2980       Afternoon          Bull shark  \n",
       "2981       Afternoon          Bull shark  \n",
       "\n",
       "[2982 rows x 12 columns]"
      ]
     },
     "execution_count": 21,
     "metadata": {},
     "output_type": "execute_result"
    }
   ],
   "source": [
    "\n",
    "df_no_unamed=df_no_unamed.reset_index(drop=True)\n",
    "\n",
    "df_no_unamed"
   ]
  },
  {
   "cell_type": "markdown",
   "metadata": {},
   "source": [
    "#Consistency of the data\n"
   ]
  },
  {
   "cell_type": "markdown",
   "metadata": {},
   "source": [
    "# Labels"
   ]
  },
  {
   "cell_type": "code",
   "execution_count": 22,
   "metadata": {},
   "outputs": [],
   "source": [
    "#Vamos a arreglar las etiquetas de las columnas"
   ]
  },
  {
   "cell_type": "code",
   "execution_count": 23,
   "metadata": {},
   "outputs": [
    {
     "data": {
      "text/plain": [
       "Index(['date', 'year', 'type', 'country', 'area', 'activity', 'sex', 'age',\n",
       "       'injury', 'fatal', 'time', 'species'],\n",
       "      dtype='object')"
      ]
     },
     "execution_count": 23,
     "metadata": {},
     "output_type": "execute_result"
    }
   ],
   "source": [
    "df_no_unamed=arreglatitulo(df_no_unamed)\n",
    "df_no_unamed.columns"
   ]
  },
  {
   "cell_type": "markdown",
   "metadata": {},
   "source": [
    "# Values "
   ]
  },
  {
   "cell_type": "code",
   "execution_count": 25,
   "metadata": {},
   "outputs": [],
   "source": [
    "#DATE"
   ]
  },
  {
   "cell_type": "code",
   "execution_count": 26,
   "metadata": {},
   "outputs": [
    {
     "data": {
      "text/plain": [
       "12-Apr-2001    4\n",
       "20-Sep-2015    4\n",
       "05-Oct-2003    4\n",
       "14-Jun-2012    4\n",
       "20-Apr-2003    3\n",
       "              ..\n",
       "23-Dec-2011    1\n",
       "15-Apr-2003    1\n",
       "10-Jul-2003    1\n",
       "04-Feb 1993    1\n",
       "07-Nov-1988    1\n",
       "Name: date, Length: 2673, dtype: int64"
      ]
     },
     "execution_count": 26,
     "metadata": {},
     "output_type": "execute_result"
    }
   ],
   "source": [
    "df_no_unamed['date'].value_counts()"
   ]
  },
  {
   "cell_type": "code",
   "execution_count": 27,
   "metadata": {},
   "outputs": [],
   "source": [
    "#Solo queremos el mes "
   ]
  },
  {
   "cell_type": "code",
   "execution_count": 28,
   "metadata": {},
   "outputs": [],
   "source": [
    "df_no_unamed=solomeses(df_no_unamed)"
   ]
  },
  {
   "cell_type": "code",
   "execution_count": 29,
   "metadata": {},
   "outputs": [
    {
     "data": {
      "text/plain": [
       "Jul    329\n",
       "Aug    314\n",
       "Sep    282\n",
       "Jun    261\n",
       "Oct    238\n",
       "Jan    237\n",
       "Apr    235\n",
       "Dec    213\n",
       "Nov    192\n",
       "Feb    191\n",
       "Name: date, dtype: int64"
      ]
     },
     "execution_count": 29,
     "metadata": {},
     "output_type": "execute_result"
    }
   ],
   "source": [
    "df_no_unamed['date'].value_counts()"
   ]
  },
  {
   "cell_type": "code",
   "execution_count": 30,
   "metadata": {},
   "outputs": [],
   "source": [
    "#YEAR"
   ]
  },
  {
   "cell_type": "code",
   "execution_count": 31,
   "metadata": {},
   "outputs": [
    {
     "data": {
      "text/plain": [
       "2015.0    94\n",
       "2017.0    79\n",
       "2016.0    77\n",
       "2007.0    72\n",
       "2012.0    71\n",
       "          ..\n",
       "1898.0     1\n",
       "1925.0     1\n",
       "1865.0     1\n",
       "1852.0     1\n",
       "1874.0     1\n",
       "Name: year, Length: 128, dtype: int64"
      ]
     },
     "execution_count": 31,
     "metadata": {},
     "output_type": "execute_result"
    }
   ],
   "source": [
    "df_no_unamed['year'].value_counts()"
   ]
  },
  {
   "cell_type": "code",
   "execution_count": 32,
   "metadata": {},
   "outputs": [],
   "source": [
    "df_no_unamed=df_no_unamed[df_no_unamed.year!=0]"
   ]
  },
  {
   "cell_type": "code",
   "execution_count": 33,
   "metadata": {},
   "outputs": [],
   "source": [
    "df_no_unamed['year']=df_no_unamed['year'].astype(int)\n"
   ]
  },
  {
   "cell_type": "code",
   "execution_count": 34,
   "metadata": {},
   "outputs": [
    {
     "data": {
      "text/html": [
       "<div>\n",
       "<style scoped>\n",
       "    .dataframe tbody tr th:only-of-type {\n",
       "        vertical-align: middle;\n",
       "    }\n",
       "\n",
       "    .dataframe tbody tr th {\n",
       "        vertical-align: top;\n",
       "    }\n",
       "\n",
       "    .dataframe thead th {\n",
       "        text-align: right;\n",
       "    }\n",
       "</style>\n",
       "<table border=\"1\" class=\"dataframe\">\n",
       "  <thead>\n",
       "    <tr style=\"text-align: right;\">\n",
       "      <th></th>\n",
       "      <th>date</th>\n",
       "      <th>year</th>\n",
       "      <th>type</th>\n",
       "      <th>country</th>\n",
       "      <th>area</th>\n",
       "      <th>activity</th>\n",
       "      <th>sex</th>\n",
       "      <th>age</th>\n",
       "      <th>injury</th>\n",
       "      <th>fatal</th>\n",
       "      <th>time</th>\n",
       "      <th>species</th>\n",
       "    </tr>\n",
       "  </thead>\n",
       "  <tbody>\n",
       "    <tr>\n",
       "      <th>2967</th>\n",
       "      <td>Jan</td>\n",
       "      <td>1863</td>\n",
       "      <td>Unprovoked</td>\n",
       "      <td>AUSTRALIA</td>\n",
       "      <td>New South Wales</td>\n",
       "      <td>Bathing</td>\n",
       "      <td>M</td>\n",
       "      <td>17</td>\n",
       "      <td>FATAL</td>\n",
       "      <td>Y</td>\n",
       "      <td>Evening</td>\n",
       "      <td>NaN</td>\n",
       "    </tr>\n",
       "    <tr>\n",
       "      <th>2968</th>\n",
       "      <td>Dec</td>\n",
       "      <td>1862</td>\n",
       "      <td>Unprovoked</td>\n",
       "      <td>NEW ZEALAND</td>\n",
       "      <td>North Island</td>\n",
       "      <td>Swimming</td>\n",
       "      <td>M</td>\n",
       "      <td>28</td>\n",
       "      <td>Right thigh and left foot severely bitten</td>\n",
       "      <td>N</td>\n",
       "      <td>06h00 -- 07h00</td>\n",
       "      <td>NaN</td>\n",
       "    </tr>\n",
       "    <tr>\n",
       "      <th>2969</th>\n",
       "      <td>Jul</td>\n",
       "      <td>1862</td>\n",
       "      <td>Unprovoked</td>\n",
       "      <td>SPAIN</td>\n",
       "      <td>Cádiz</td>\n",
       "      <td>Swimming alongside the SS Kearsarge</td>\n",
       "      <td>M</td>\n",
       "      <td>NaN</td>\n",
       "      <td>FATAL</td>\n",
       "      <td>Y</td>\n",
       "      <td>18h30</td>\n",
       "      <td>16' shark</td>\n",
       "    </tr>\n",
       "    <tr>\n",
       "      <th>2971</th>\n",
       "      <td>Feb</td>\n",
       "      <td>1852</td>\n",
       "      <td>Sea Disaster</td>\n",
       "      <td>SOUTH AFRICA</td>\n",
       "      <td>Western Cape Province</td>\n",
       "      <td>Wreck of the steamship Birkenhead</td>\n",
       "      <td>M</td>\n",
       "      <td>NaN</td>\n",
       "      <td>FATAL. All of the women &amp; children on board su...</td>\n",
       "      <td>Y</td>\n",
       "      <td>01h50</td>\n",
       "      <td>White sharks</td>\n",
       "    </tr>\n",
       "    <tr>\n",
       "      <th>2972</th>\n",
       "      <td>Jan</td>\n",
       "      <td>1837</td>\n",
       "      <td>Unprovoked</td>\n",
       "      <td>AUSTRALIA</td>\n",
       "      <td>New South Wales</td>\n",
       "      <td>Washing his feet</td>\n",
       "      <td>M</td>\n",
       "      <td>12</td>\n",
       "      <td>FATAL     Injured by shark, died of tetanus</td>\n",
       "      <td>Y</td>\n",
       "      <td>Evening</td>\n",
       "      <td>NaN</td>\n",
       "    </tr>\n",
       "  </tbody>\n",
       "</table>\n",
       "</div>"
      ],
      "text/plain": [
       "     date  year          type       country                   area  \\\n",
       "2967  Jan  1863    Unprovoked     AUSTRALIA        New South Wales   \n",
       "2968  Dec  1862    Unprovoked   NEW ZEALAND           North Island   \n",
       "2969  Jul  1862    Unprovoked         SPAIN                  Cádiz   \n",
       "2971  Feb  1852  Sea Disaster  SOUTH AFRICA  Western Cape Province   \n",
       "2972  Jan  1837    Unprovoked     AUSTRALIA        New South Wales   \n",
       "\n",
       "                                 activity sex  age  \\\n",
       "2967                              Bathing   M   17   \n",
       "2968                             Swimming   M   28   \n",
       "2969  Swimming alongside the SS Kearsarge   M  NaN   \n",
       "2971    Wreck of the steamship Birkenhead   M  NaN   \n",
       "2972                     Washing his feet   M   12   \n",
       "\n",
       "                                                 injury fatal            time  \\\n",
       "2967                                              FATAL     Y         Evening   \n",
       "2968          Right thigh and left foot severely bitten     N  06h00 -- 07h00   \n",
       "2969                                              FATAL     Y           18h30   \n",
       "2971  FATAL. All of the women & children on board su...     Y           01h50   \n",
       "2972        FATAL     Injured by shark, died of tetanus     Y         Evening   \n",
       "\n",
       "           species  \n",
       "2967           NaN  \n",
       "2968           NaN  \n",
       "2969     16' shark  \n",
       "2971  White sharks  \n",
       "2972           NaN  "
      ]
     },
     "execution_count": 34,
     "metadata": {},
     "output_type": "execute_result"
    }
   ],
   "source": [
    "df_no_unamed.tail()"
   ]
  },
  {
   "cell_type": "code",
   "execution_count": 35,
   "metadata": {},
   "outputs": [
    {
     "data": {
      "text/plain": [
       "2015    94\n",
       "2017    79\n",
       "2016    77\n",
       "2007    72\n",
       "2008    71\n",
       "        ..\n",
       "1887     1\n",
       "1879     1\n",
       "1877     1\n",
       "1865     1\n",
       "1852     1\n",
       "Name: year, Length: 128, dtype: int64"
      ]
     },
     "execution_count": 35,
     "metadata": {},
     "output_type": "execute_result"
    }
   ],
   "source": [
    "df_no_unamed['year'].value_counts()"
   ]
  },
  {
   "cell_type": "code",
   "execution_count": 36,
   "metadata": {},
   "outputs": [],
   "source": [
    "#TYPE"
   ]
  },
  {
   "cell_type": "code",
   "execution_count": 37,
   "metadata": {},
   "outputs": [
    {
     "data": {
      "text/plain": [
       "Unprovoked      2146\n",
       "Provoked         191\n",
       "Invalid           90\n",
       "Boating           38\n",
       "Sea Disaster      18\n",
       "Boat               8\n",
       "Questionable       1\n",
       "Name: type, dtype: int64"
      ]
     },
     "execution_count": 37,
     "metadata": {},
     "output_type": "execute_result"
    }
   ],
   "source": [
    "df_no_unamed['type'].value_counts()"
   ]
  },
  {
   "cell_type": "markdown",
   "metadata": {},
   "source": [
    "En este caso hemos obtado por una categorizacion binaria, entre \"Unprovoked\" y \"Provoked\" para el análisis."
   ]
  },
  {
   "cell_type": "code",
   "execution_count": 38,
   "metadata": {},
   "outputs": [
    {
     "data": {
      "text/plain": [
       "Unprovoked    2301\n",
       "Provoked       191\n",
       "Name: type, dtype: int64"
      ]
     },
     "execution_count": 38,
     "metadata": {},
     "output_type": "execute_result"
    }
   ],
   "source": [
    "df_no_unamed['type'] = df_no_unamed['type'].apply(clentype)\n",
    "df_no_unamed['type']=df_no_unamed.type.astype(str)\n",
    "df_no_unamed['type'].value_counts()"
   ]
  },
  {
   "cell_type": "code",
   "execution_count": 39,
   "metadata": {},
   "outputs": [],
   "source": [
    "#COUNTRY"
   ]
  },
  {
   "cell_type": "markdown",
   "metadata": {},
   "source": [
    "En este caso utilizaremos la función countries, limpiamos los datos para unicamente tener paises registrados."
   ]
  },
  {
   "cell_type": "code",
   "execution_count": 40,
   "metadata": {},
   "outputs": [],
   "source": [
    "df_no_unamed['country']= df_no_unamed['country'].apply(countries1)"
   ]
  },
  {
   "cell_type": "code",
   "execution_count": 41,
   "metadata": {},
   "outputs": [
    {
     "data": {
      "text/plain": [
       "USA             1202\n",
       "AUSTRALIA        533\n",
       "SOUTH AFRICA     293\n",
       "unknown           49\n",
       "BAHAMAS           46\n",
       "                ... \n",
       "MALAYSIA           1\n",
       "MADAGASCAR         1\n",
       "CHILE              1\n",
       "Fiji               1\n",
       "HAITI              1\n",
       "Name: country, Length: 68, dtype: int64"
      ]
     },
     "execution_count": 41,
     "metadata": {},
     "output_type": "execute_result"
    }
   ],
   "source": [
    "df_no_unamed['country'].value_counts()"
   ]
  },
  {
   "cell_type": "code",
   "execution_count": 42,
   "metadata": {},
   "outputs": [],
   "source": [
    "#ACTIVITY"
   ]
  },
  {
   "cell_type": "code",
   "execution_count": 43,
   "metadata": {
    "scrolled": true
   },
   "outputs": [
    {
     "data": {
      "text/plain": [
       "Surfing                                                               631\n",
       "Swimming                                                              408\n",
       "Spearfishing                                                          162\n",
       "Wading                                                                 95\n",
       "Fishing                                                                87\n",
       "                                                                     ... \n",
       "Diving for pearl shell                                                  1\n",
       "Scuba diving & feeding fish                                             1\n",
       "Standing alongside surfboard                                            1\n",
       "Spearfishing, Smith  & Walker touched shark with tip of their guns      1\n",
       "Paddling in knee-deep water                                             1\n",
       "Name: activity, Length: 528, dtype: int64"
      ]
     },
     "execution_count": 43,
     "metadata": {},
     "output_type": "execute_result"
    }
   ],
   "source": [
    "df_no_unamed['activity'].value_counts()"
   ]
  },
  {
   "cell_type": "code",
   "execution_count": 44,
   "metadata": {},
   "outputs": [],
   "source": [
    "df_no_unamed['activity']=df_no_unamed['activity'].apply(cleanactivity)"
   ]
  },
  {
   "cell_type": "code",
   "execution_count": 65,
   "metadata": {},
   "outputs": [
    {
     "data": {
      "text/plain": [
       "Others          868\n",
       "Surfing         663\n",
       "Swimming        501\n",
       "Spearfishing    199\n",
       "Fishing         135\n",
       "Diving           73\n",
       "Name: activity, dtype: int64"
      ]
     },
     "execution_count": 65,
     "metadata": {},
     "output_type": "execute_result"
    }
   ],
   "source": [
    "df_no_unamed['activity'].value_counts()"
   ]
  },
  {
   "cell_type": "code",
   "execution_count": 46,
   "metadata": {},
   "outputs": [],
   "source": [
    "#SEX"
   ]
  },
  {
   "cell_type": "code",
   "execution_count": 47,
   "metadata": {},
   "outputs": [],
   "source": [
    "df_no_unamed['sex']=df_no_unamed['sex'].apply(sexclean)"
   ]
  },
  {
   "cell_type": "code",
   "execution_count": 48,
   "metadata": {},
   "outputs": [
    {
     "data": {
      "text/plain": [
       "M    2144\n",
       "F     348\n",
       "Name: sex, dtype: int64"
      ]
     },
     "execution_count": 48,
     "metadata": {},
     "output_type": "execute_result"
    }
   ],
   "source": [
    "df_no_unamed['sex'].value_counts()"
   ]
  },
  {
   "cell_type": "code",
   "execution_count": 49,
   "metadata": {},
   "outputs": [],
   "source": [
    "#AGE"
   ]
  },
  {
   "cell_type": "code",
   "execution_count": 50,
   "metadata": {},
   "outputs": [],
   "source": [
    "df_no_unamed['age']=df_no_unamed['age'].apply(cleanage)"
   ]
  },
  {
   "cell_type": "code",
   "execution_count": 51,
   "metadata": {},
   "outputs": [
    {
     "data": {
      "text/plain": [
       "0     264\n",
       "18    111\n",
       "19    109\n",
       "17     98\n",
       "20     96\n",
       "     ... \n",
       "74      1\n",
       "82      1\n",
       "75      1\n",
       "67      1\n",
       "84      1\n",
       "Name: age, Length: 69, dtype: int64"
      ]
     },
     "execution_count": 51,
     "metadata": {},
     "output_type": "execute_result"
    }
   ],
   "source": [
    "df_no_unamed['age'].value_counts()"
   ]
  },
  {
   "cell_type": "code",
   "execution_count": 52,
   "metadata": {},
   "outputs": [],
   "source": [
    "#INJURY\n",
    "#We are not going to work with injury , but we will use it for fatal column"
   ]
  },
  {
   "cell_type": "code",
   "execution_count": 53,
   "metadata": {},
   "outputs": [],
   "source": [
    "df_no_unamed['fatal']=df_no_unamed['injury'].apply(cleaninjury)\n"
   ]
  },
  {
   "cell_type": "code",
   "execution_count": 57,
   "metadata": {},
   "outputs": [
    {
     "data": {
      "text/plain": [
       "No Fatal    2098\n",
       "Fatal        394\n",
       "Name: fatal, dtype: int64"
      ]
     },
     "execution_count": 57,
     "metadata": {},
     "output_type": "execute_result"
    }
   ],
   "source": [
    "df_no_unamed['fatal'].value_counts()"
   ]
  },
  {
   "cell_type": "code",
   "execution_count": 55,
   "metadata": {},
   "outputs": [],
   "source": [
    "#Time"
   ]
  },
  {
   "cell_type": "code",
   "execution_count": 58,
   "metadata": {},
   "outputs": [],
   "source": [
    "df_no_unamed['time']=df_no_unamed['time'].fillna(\"Unkown\")"
   ]
  },
  {
   "cell_type": "code",
   "execution_count": 59,
   "metadata": {},
   "outputs": [],
   "source": [
    "df_no_unamed['time']=df_no_unamed['time'].apply(cleantime)\n",
    "\n"
   ]
  },
  {
   "cell_type": "code",
   "execution_count": 60,
   "metadata": {},
   "outputs": [
    {
     "data": {
      "text/plain": [
       "Afternoon    1171\n",
       "Evening       670\n",
       "Morning       620\n",
       "Night          31\n",
       "Name: time, dtype: int64"
      ]
     },
     "execution_count": 60,
     "metadata": {},
     "output_type": "execute_result"
    }
   ],
   "source": [
    "df_no_unamed['time'].value_counts()"
   ]
  },
  {
   "cell_type": "code",
   "execution_count": 56,
   "metadata": {},
   "outputs": [],
   "source": [
    "#SPECIES AND AREA\n",
    "#We are not goin to use it , so will are gonna drop it ."
   ]
  },
  {
   "cell_type": "code",
   "execution_count": 61,
   "metadata": {},
   "outputs": [],
   "source": [
    "df_final=df_no_unamed.drop([\"species\", \"area\"],axis=1)"
   ]
  },
  {
   "cell_type": "code",
   "execution_count": 67,
   "metadata": {},
   "outputs": [
    {
     "data": {
      "text/html": [
       "<div>\n",
       "<style scoped>\n",
       "    .dataframe tbody tr th:only-of-type {\n",
       "        vertical-align: middle;\n",
       "    }\n",
       "\n",
       "    .dataframe tbody tr th {\n",
       "        vertical-align: top;\n",
       "    }\n",
       "\n",
       "    .dataframe thead th {\n",
       "        text-align: right;\n",
       "    }\n",
       "</style>\n",
       "<table border=\"1\" class=\"dataframe\">\n",
       "  <thead>\n",
       "    <tr style=\"text-align: right;\">\n",
       "      <th></th>\n",
       "      <th>date</th>\n",
       "      <th>year</th>\n",
       "      <th>type</th>\n",
       "      <th>country</th>\n",
       "      <th>activity</th>\n",
       "      <th>sex</th>\n",
       "      <th>age</th>\n",
       "      <th>injury</th>\n",
       "      <th>fatal</th>\n",
       "      <th>time</th>\n",
       "    </tr>\n",
       "  </thead>\n",
       "  <tbody>\n",
       "    <tr>\n",
       "      <th>0</th>\n",
       "      <td>Jun</td>\n",
       "      <td>2018</td>\n",
       "      <td>Unprovoked</td>\n",
       "      <td>USA</td>\n",
       "      <td>Others</td>\n",
       "      <td>F</td>\n",
       "      <td>57</td>\n",
       "      <td>No injury to occupant, outrigger canoe and pad...</td>\n",
       "      <td>No Fatal</td>\n",
       "      <td>Evening</td>\n",
       "    </tr>\n",
       "    <tr>\n",
       "      <th>1</th>\n",
       "      <td>Jun</td>\n",
       "      <td>2018</td>\n",
       "      <td>Unprovoked</td>\n",
       "      <td>USA</td>\n",
       "      <td>Others</td>\n",
       "      <td>F</td>\n",
       "      <td>11</td>\n",
       "      <td>Minor injury to left thigh</td>\n",
       "      <td>No Fatal</td>\n",
       "      <td>Afternoon</td>\n",
       "    </tr>\n",
       "    <tr>\n",
       "      <th>2</th>\n",
       "      <td>Jun</td>\n",
       "      <td>2018</td>\n",
       "      <td>Unprovoked</td>\n",
       "      <td>USA</td>\n",
       "      <td>Surfing</td>\n",
       "      <td>M</td>\n",
       "      <td>48</td>\n",
       "      <td>Injury to left lower leg from surfboard skeg</td>\n",
       "      <td>No Fatal</td>\n",
       "      <td>Morning</td>\n",
       "    </tr>\n",
       "    <tr>\n",
       "      <th>3</th>\n",
       "      <td>Jun</td>\n",
       "      <td>2018</td>\n",
       "      <td>Unprovoked</td>\n",
       "      <td>BRAZIL</td>\n",
       "      <td>Swimming</td>\n",
       "      <td>M</td>\n",
       "      <td>18</td>\n",
       "      <td>FATAL</td>\n",
       "      <td>Fatal</td>\n",
       "      <td>Afternoon</td>\n",
       "    </tr>\n",
       "    <tr>\n",
       "      <th>12</th>\n",
       "      <td>Apr</td>\n",
       "      <td>2018</td>\n",
       "      <td>Unprovoked</td>\n",
       "      <td>COSTA RICA</td>\n",
       "      <td>Others</td>\n",
       "      <td>M</td>\n",
       "      <td>30</td>\n",
       "      <td>No injury, shark bit scuba gear</td>\n",
       "      <td>No Fatal</td>\n",
       "      <td>Morning</td>\n",
       "    </tr>\n",
       "    <tr>\n",
       "      <th>...</th>\n",
       "      <td>...</td>\n",
       "      <td>...</td>\n",
       "      <td>...</td>\n",
       "      <td>...</td>\n",
       "      <td>...</td>\n",
       "      <td>...</td>\n",
       "      <td>...</td>\n",
       "      <td>...</td>\n",
       "      <td>...</td>\n",
       "      <td>...</td>\n",
       "    </tr>\n",
       "    <tr>\n",
       "      <th>2967</th>\n",
       "      <td>Jan</td>\n",
       "      <td>1863</td>\n",
       "      <td>Unprovoked</td>\n",
       "      <td>AUSTRALIA</td>\n",
       "      <td>Others</td>\n",
       "      <td>M</td>\n",
       "      <td>17</td>\n",
       "      <td>FATAL</td>\n",
       "      <td>Fatal</td>\n",
       "      <td>Evening</td>\n",
       "    </tr>\n",
       "    <tr>\n",
       "      <th>2968</th>\n",
       "      <td>Dec</td>\n",
       "      <td>1862</td>\n",
       "      <td>Unprovoked</td>\n",
       "      <td>NEW ZEALAND</td>\n",
       "      <td>Swimming</td>\n",
       "      <td>M</td>\n",
       "      <td>28</td>\n",
       "      <td>Right thigh and left foot severely bitten</td>\n",
       "      <td>No Fatal</td>\n",
       "      <td>Evening</td>\n",
       "    </tr>\n",
       "    <tr>\n",
       "      <th>2969</th>\n",
       "      <td>Jul</td>\n",
       "      <td>1862</td>\n",
       "      <td>Unprovoked</td>\n",
       "      <td>SPAIN</td>\n",
       "      <td>Swimming</td>\n",
       "      <td>M</td>\n",
       "      <td>0</td>\n",
       "      <td>FATAL</td>\n",
       "      <td>Fatal</td>\n",
       "      <td>Evening</td>\n",
       "    </tr>\n",
       "    <tr>\n",
       "      <th>2971</th>\n",
       "      <td>Feb</td>\n",
       "      <td>1852</td>\n",
       "      <td>Unprovoked</td>\n",
       "      <td>SOUTH AFRICA</td>\n",
       "      <td>None</td>\n",
       "      <td>M</td>\n",
       "      <td>0</td>\n",
       "      <td>FATAL. All of the women &amp; children on board su...</td>\n",
       "      <td>Fatal</td>\n",
       "      <td>Evening</td>\n",
       "    </tr>\n",
       "    <tr>\n",
       "      <th>2972</th>\n",
       "      <td>Jan</td>\n",
       "      <td>1837</td>\n",
       "      <td>Unprovoked</td>\n",
       "      <td>AUSTRALIA</td>\n",
       "      <td>Others</td>\n",
       "      <td>M</td>\n",
       "      <td>12</td>\n",
       "      <td>FATAL     Injured by shark, died of tetanus</td>\n",
       "      <td>Fatal</td>\n",
       "      <td>Evening</td>\n",
       "    </tr>\n",
       "  </tbody>\n",
       "</table>\n",
       "<p>2492 rows × 10 columns</p>\n",
       "</div>"
      ],
      "text/plain": [
       "     date  year        type       country  activity sex  age  \\\n",
       "0     Jun  2018  Unprovoked           USA    Others   F   57   \n",
       "1     Jun  2018  Unprovoked           USA    Others   F   11   \n",
       "2     Jun  2018  Unprovoked           USA   Surfing   M   48   \n",
       "3     Jun  2018  Unprovoked        BRAZIL  Swimming   M   18   \n",
       "12    Apr  2018  Unprovoked    COSTA RICA    Others   M   30   \n",
       "...   ...   ...         ...           ...       ...  ..  ...   \n",
       "2967  Jan  1863  Unprovoked     AUSTRALIA    Others   M   17   \n",
       "2968  Dec  1862  Unprovoked   NEW ZEALAND  Swimming   M   28   \n",
       "2969  Jul  1862  Unprovoked         SPAIN  Swimming   M    0   \n",
       "2971  Feb  1852  Unprovoked  SOUTH AFRICA      None   M    0   \n",
       "2972  Jan  1837  Unprovoked     AUSTRALIA    Others   M   12   \n",
       "\n",
       "                                                 injury     fatal       time  \n",
       "0     No injury to occupant, outrigger canoe and pad...  No Fatal    Evening  \n",
       "1                            Minor injury to left thigh  No Fatal  Afternoon  \n",
       "2          Injury to left lower leg from surfboard skeg  No Fatal    Morning  \n",
       "3                                                 FATAL     Fatal  Afternoon  \n",
       "12                      No injury, shark bit scuba gear  No Fatal    Morning  \n",
       "...                                                 ...       ...        ...  \n",
       "2967                                              FATAL     Fatal    Evening  \n",
       "2968          Right thigh and left foot severely bitten  No Fatal    Evening  \n",
       "2969                                              FATAL     Fatal    Evening  \n",
       "2971  FATAL. All of the women & children on board su...     Fatal    Evening  \n",
       "2972        FATAL     Injured by shark, died of tetanus     Fatal    Evening  \n",
       "\n",
       "[2492 rows x 10 columns]"
      ]
     },
     "execution_count": 67,
     "metadata": {},
     "output_type": "execute_result"
    }
   ],
   "source": [
    "df_final"
   ]
  },
  {
   "cell_type": "code",
   "execution_count": 73,
   "metadata": {},
   "outputs": [
    {
     "name": "stdout",
     "output_type": "stream",
     "text": [
      "<class 'pandas.core.frame.DataFrame'>\n",
      "RangeIndex: 2492 entries, 0 to 2491\n",
      "Data columns (total 10 columns):\n",
      " #   Column    Non-Null Count  Dtype \n",
      "---  ------    --------------  ----- \n",
      " 0   date      2492 non-null   object\n",
      " 1   year      2492 non-null   int64 \n",
      " 2   type      2492 non-null   object\n",
      " 3   country   2492 non-null   object\n",
      " 4   activity  2439 non-null   object\n",
      " 5   sex       2492 non-null   object\n",
      " 6   age       2492 non-null   int64 \n",
      " 7   injury    2492 non-null   object\n",
      " 8   fatal     2492 non-null   object\n",
      " 9   time      2492 non-null   object\n",
      "dtypes: int64(2), object(8)\n",
      "memory usage: 194.8+ KB\n"
     ]
    }
   ],
   "source": [
    "df_final.info()"
   ]
  },
  {
   "cell_type": "code",
   "execution_count": 75,
   "metadata": {},
   "outputs": [
    {
     "data": {
      "text/plain": [
       "(2492, 10)"
      ]
     },
     "execution_count": 75,
     "metadata": {},
     "output_type": "execute_result"
    }
   ],
   "source": [
    "df_final.shape"
   ]
  },
  {
   "cell_type": "markdown",
   "metadata": {},
   "source": [
    "# Clean dataframe\n",
    "No tenemos archivos nulos, good to gooooo!\n",
    "\n"
   ]
  },
  {
   "cell_type": "code",
   "execution_count": 68,
   "metadata": {},
   "outputs": [],
   "source": [
    "df_final=df_final.reset_index(drop=True)"
   ]
  },
  {
   "cell_type": "code",
   "execution_count": 70,
   "metadata": {},
   "outputs": [],
   "source": [
    "df_final.to_csv('Output/Sharks_attacks_clean.csv',index=False)"
   ]
  },
  {
   "cell_type": "code",
   "execution_count": null,
   "metadata": {},
   "outputs": [],
   "source": []
  }
 ],
 "metadata": {
  "kernelspec": {
   "display_name": "Python 3",
   "language": "python",
   "name": "python3"
  },
  "language_info": {
   "codemirror_mode": {
    "name": "ipython",
    "version": 3
   },
   "file_extension": ".py",
   "mimetype": "text/x-python",
   "name": "python",
   "nbconvert_exporter": "python",
   "pygments_lexer": "ipython3",
   "version": "3.8.2"
  }
 },
 "nbformat": 4,
 "nbformat_minor": 4
}
